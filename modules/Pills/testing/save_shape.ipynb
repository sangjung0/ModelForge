{
 "cells": [
  {
   "cell_type": "code",
   "execution_count": 2,
   "metadata": {},
   "outputs": [],
   "source": [
    "import pandas as pd"
   ]
  },
  {
   "cell_type": "code",
   "execution_count": 3,
   "metadata": {},
   "outputs": [],
   "source": [
    "dataset = {\n",
    "  \"shape_categories\": [\n",
    "    {\"id\": 1, \"name\": \"circle\"},\n",
    "    {\"id\": 2, \"name\": \"ellipse\"},\n",
    "    {\"id\": 3, \"name\": \"Capsule\"},\n",
    "    {\"id\": 4, \"name\": \"hexagon\"},\n",
    "    {\"id\": 5, \"name\": \"softgel\"},\n",
    "    {\"id\": 6, \"name\": \"oblong\"},\n",
    "  ],\n",
    "  \"material_categories\": [\n",
    "    {\"index\": 0, \"name\": \"K-001676\", \"shape\": 1},\n",
    "    {\"index\": 1, \"name\": \"K-001715\", \"shape\": 1},\n",
    "    {\"index\": 2, \"name\": \"K-001728\", \"shape\": 1},\n",
    "    {\"index\": 3, \"name\": \"K-001732\", \"shape\": 1},\n",
    "    {\"index\": 4, \"name\": \"K-001743\", \"shape\": 1},\n",
    "    {\"index\": 5, \"name\": \"K-001862\", \"shape\": 2},\n",
    "    {\"index\": 6, \"name\": \"K-001866\", \"shape\": 1},\n",
    "    {\"index\": 7, \"name\": \"K-001901\", \"shape\": 6},\n",
    "    {\"index\": 8, \"name\": \"K-001906\", \"shape\": 1},\n",
    "    {\"index\": 9, \"name\": \"K-002005\", \"shape\": 1},\n",
    "    {\"index\": 10, \"name\": \"K-002031\", \"shape\": 2},\n",
    "    {\"index\": 11, \"name\": \"K-002049\", \"shape\": 3},\n",
    "    {\"index\": 12, \"name\": \"K-002074\", \"shape\": 2},\n",
    "    {\"index\": 13, \"name\": \"K-002159\", \"shape\": 1},\n",
    "    {\"index\": 14, \"name\": \"K-002160\", \"shape\": 1},\n",
    "    {\"index\": 15, \"name\": \"K-002169\", \"shape\": 2},\n",
    "    {\"index\": 16, \"name\": \"K-002186\", \"shape\": 1},\n",
    "    {\"index\": 17, \"name\": \"K-002208\", \"shape\": 3},\n",
    "    {\"index\": 18, \"name\": \"K-002240\", \"shape\": 1},\n",
    "    {\"index\": 19, \"name\": \"K-002256\", \"shape\": 1},\n",
    "    {\"index\": 20, \"name\": \"K-002257\", \"shape\": 1},\n",
    "    {\"index\": 21, \"name\": \"K-002265\", \"shape\": 1},\n",
    "    {\"index\": 22, \"name\": \"K-002275\", \"shape\": 3},\n",
    "    {\"index\": 23, \"name\": \"K-002495\", \"shape\": 2},\n",
    "    {\"index\": 24, \"name\": \"K-002536\", \"shape\": 2},\n",
    "    {\"index\": 25, \"name\": \"K-002537\", \"shape\": 2},\n",
    "    {\"index\": 26, \"name\": \"K-002539\", \"shape\": 3},\n",
    "    {\"index\": 27, \"name\": \"K-002596\", \"shape\": 2},\n",
    "    {\"index\": 28, \"name\": \"K-002650\", \"shape\": 1},\n",
    "    {\"index\": 29, \"name\": \"K-002753\", \"shape\": 4},\n",
    "    {\"index\": 30, \"name\": \"K-002824\", \"shape\": 1},\n",
    "    {\"index\": 31, \"name\": \"K-002942\", \"shape\": 1},\n",
    "    {\"index\": 32, \"name\": \"K-002944\", \"shape\": 2},\n",
    "    {\"index\": 33, \"name\": \"K-003017\", \"shape\": 2},\n",
    "    {\"index\": 34, \"name\": \"K-003049\", \"shape\": 1},\n",
    "    {\"index\": 35, \"name\": \"K-003078\", \"shape\": 3},\n",
    "    {\"index\": 36, \"name\": \"K-003102\", \"shape\": 1},\n",
    "    {\"index\": 37, \"name\": \"K-003105\", \"shape\": 1},\n",
    "    {\"index\": 38, \"name\": \"K-003137\", \"shape\": 1},\n",
    "    {\"index\": 39, \"name\": \"K-003157\", \"shape\": 1},\n",
    "    {\"index\": 40, \"name\": \"K-003225\", \"shape\": 1},\n",
    "    {\"index\": 41, \"name\": \"K-003259\", \"shape\": 2},\n",
    "    {\"index\": 42, \"name\": \"K-003329\", \"shape\": 1},\n",
    "    {\"index\": 43, \"name\": \"K-003361\", \"shape\": 2},\n",
    "    {\"index\": 44, \"name\": \"K-003483\", \"shape\": 2},\n",
    "    {\"index\": 45, \"name\": \"K-003532\", \"shape\": 1},\n",
    "    {\"index\": 46, \"name\": \"K-003544\", \"shape\": 1},\n",
    "    {\"index\": 47, \"name\": \"K-003611\", \"shape\": 1},\n",
    "    {\"index\": 48, \"name\": \"K-003687\", \"shape\": 2},\n",
    "    {\"index\": 49, \"name\": \"K-003705\", \"shape\": 3},\n",
    "  ]\n",
    "}"
   ]
  },
  {
   "cell_type": "code",
   "execution_count": 7,
   "metadata": {},
   "outputs": [],
   "source": [
    "id_shape = {shape[\"id\"]: shape[\"name\"] for shape in dataset[\"shape_categories\"]}\n",
    "id_shape = pd.DataFrame(id_shape.items(), columns=[\"id\", \"shape\"])\n",
    "id_shape.to_csv(\"datasets/pills/id_shape.csv\", index=False)"
   ]
  },
  {
   "cell_type": "code",
   "execution_count": 26,
   "metadata": {},
   "outputs": [],
   "source": [
    "class_label = pd.read_csv('datasets/pills/class_label.csv')"
   ]
  },
  {
   "cell_type": "code",
   "execution_count": 27,
   "metadata": {},
   "outputs": [],
   "source": [
    "class_shape_id = pd.DataFrame(dataset[\"material_categories\"]).iloc[:, 1:3]"
   ]
  },
  {
   "cell_type": "code",
   "execution_count": 28,
   "metadata": {},
   "outputs": [],
   "source": [
    "class_shape_id = class_shape_id.merge(class_label, right_on='label', left_on=\"name\" , how='left')\n",
    "class_shape_id = class_shape_id[['class', 'shape']]"
   ]
  },
  {
   "cell_type": "code",
   "execution_count": 29,
   "metadata": {},
   "outputs": [],
   "source": [
    "class_shape_id.to_csv(\"datasets/pills/class_shape_id.csv\", index=False)"
   ]
  }
 ],
 "metadata": {
  "kernelspec": {
   "display_name": "Python 3",
   "language": "python",
   "name": "python3"
  },
  "language_info": {
   "codemirror_mode": {
    "name": "ipython",
    "version": 3
   },
   "file_extension": ".py",
   "mimetype": "text/x-python",
   "name": "python",
   "nbconvert_exporter": "python",
   "pygments_lexer": "ipython3",
   "version": "3.10.12"
  }
 },
 "nbformat": 4,
 "nbformat_minor": 2
}
