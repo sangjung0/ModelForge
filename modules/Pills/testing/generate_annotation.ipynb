{
 "cells": [
  {
   "cell_type": "code",
   "execution_count": 1,
   "metadata": {},
   "outputs": [],
   "source": [
    "import os\n",
    "import sys \n",
    "os.chdir(\"/workspaces/dev/modules\")\n",
    "sys.path.append(\"/workspaces/dev/models/R-CNN\")"
   ]
  },
  {
   "cell_type": "code",
   "execution_count": 2,
   "metadata": {},
   "outputs": [],
   "source": [
    "import json\n",
    "from pathlib import Path"
   ]
  },
  {
   "cell_type": "code",
   "execution_count": 3,
   "metadata": {},
   "outputs": [
    {
     "name": "stderr",
     "output_type": "stream",
     "text": [
      "2025-03-14 19:41:56.513204: I tensorflow/core/util/port.cc:153] oneDNN custom operations are on. You may see slightly different numerical results due to floating-point round-off errors from different computation orders. To turn them off, set the environment variable `TF_ENABLE_ONEDNN_OPTS=0`.\n",
      "2025-03-14 19:41:56.531251: E external/local_xla/xla/stream_executor/cuda/cuda_fft.cc:477] Unable to register cuFFT factory: Attempting to register factory for plugin cuFFT when one has already been registered\n",
      "WARNING: All log messages before absl::InitializeLog() is called are written to STDERR\n",
      "E0000 00:00:1741981316.544774   60212 cuda_dnn.cc:8310] Unable to register cuDNN factory: Attempting to register factory for plugin cuDNN when one has already been registered\n",
      "E0000 00:00:1741981316.548416   60212 cuda_blas.cc:1418] Unable to register cuBLAS factory: Attempting to register factory for plugin cuBLAS when one has already been registered\n",
      "2025-03-14 19:41:56.566871: I tensorflow/core/platform/cpu_feature_guard.cc:210] This TensorFlow binary is optimized to use available CPU instructions in performance-critical operations.\n",
      "To enable the following instructions: AVX2 AVX_VNNI FMA, in other operations, rebuild TensorFlow with the appropriate compiler flags.\n"
     ]
    }
   ],
   "source": [
    "from Pills.Utils import *\n",
    "from Pills import *"
   ]
  },
  {
   "cell_type": "code",
   "execution_count": 4,
   "metadata": {},
   "outputs": [],
   "source": [
    "SOURCE_PATH = '/workspaces/dev/datasets/pills/data'\n",
    "LABEL_PATH = '/workspaces/dev/datasets/pills/class_label.csv'\n",
    "BACKGROUND_IMAGEES_PATH = '/workspaces/dev/data'\n",
    "TARGET_PATH = '/workspaces/dev/datasets/pills/generation'\n",
    "DATA_SIZE = 1_000"
   ]
  },
  {
   "cell_type": "code",
   "execution_count": 5,
   "metadata": {},
   "outputs": [],
   "source": [
    "generator = Generator(SOURCE_PATH, LABEL_PATH)\n",
    "background = Background(BACKGROUND_IMAGEES_PATH)"
   ]
  },
  {
   "cell_type": "code",
   "execution_count": 6,
   "metadata": {},
   "outputs": [],
   "source": [
    "dataset = {\n",
    "  \"info\": {\"description\": \"Pill Segmentation Dataset\", \"version\": \"1.0\"},\n",
    "  \"images\": [],\n",
    "  \"annotations\": [],\n",
    "  \"shape_categories\": [\n",
    "    {\"id\": 1, \"name\": \"circle\"},\n",
    "    {\"id\": 2, \"name\": \"ellipse\"},\n",
    "    {\"id\": 3, \"name\": \"Capsule\"},\n",
    "    {\"id\": 4, \"name\": \"hexagon\"},\n",
    "    {\"id\": 5, \"name\": \"softgel\"},\n",
    "    {\"id\": 6, \"name\": \"oblong\"},\n",
    "  ],\n",
    "  \"material_categories\": [\n",
    "    {\"index\": 0, \"name\": \"K-001676\", \"shape\": 1},\n",
    "    {\"index\": 1, \"name\": \"K-001715\", \"shape\": 1},\n",
    "    {\"index\": 2, \"name\": \"K-001728\", \"shape\": 1},\n",
    "    {\"index\": 3, \"name\": \"K-001732\", \"shape\": 1},\n",
    "    {\"index\": 4, \"name\": \"K-001743\", \"shape\": 1},\n",
    "    {\"index\": 5, \"name\": \"K-001862\", \"shape\": 2},\n",
    "    {\"index\": 6, \"name\": \"K-001866\", \"shape\": 1},\n",
    "    {\"index\": 7, \"name\": \"K-001901\", \"shape\": 6},\n",
    "    {\"index\": 8, \"name\": \"K-001906\", \"shape\": 1},\n",
    "    {\"index\": 9, \"name\": \"K-002005\", \"shape\": 1},\n",
    "    {\"index\": 10, \"name\": \"K-002031\", \"shape\": 2},\n",
    "    {\"index\": 11, \"name\": \"K-002049\", \"shape\": 3},\n",
    "    {\"index\": 12, \"name\": \"K-002074\", \"shape\": 2},\n",
    "    {\"index\": 13, \"name\": \"K-002159\", \"shape\": 1},\n",
    "    {\"index\": 14, \"name\": \"K-002160\", \"shape\": 1},\n",
    "    {\"index\": 15, \"name\": \"K-002169\", \"shape\": 2},\n",
    "    {\"index\": 16, \"name\": \"K-002186\", \"shape\": 1},\n",
    "    {\"index\": 17, \"name\": \"K-002208\", \"shape\": 3},\n",
    "    {\"index\": 18, \"name\": \"K-002240\", \"shape\": 1},\n",
    "    {\"index\": 19, \"name\": \"K-002256\", \"shape\": 1},\n",
    "    {\"index\": 20, \"name\": \"K-002257\", \"shape\": 1},\n",
    "    {\"index\": 21, \"name\": \"K-002265\", \"shape\": 1},\n",
    "    {\"index\": 22, \"name\": \"K-002275\", \"shape\": 3},\n",
    "    {\"index\": 23, \"name\": \"K-002495\", \"shape\": 2},\n",
    "    {\"index\": 24, \"name\": \"K-002536\", \"shape\": 2},\n",
    "    {\"index\": 25, \"name\": \"K-002537\", \"shape\": 2},\n",
    "    {\"index\": 26, \"name\": \"K-002539\", \"shape\": 3},\n",
    "    {\"index\": 27, \"name\": \"K-002596\", \"shape\": 2},\n",
    "    {\"index\": 28, \"name\": \"K-002650\", \"shape\": 1},\n",
    "    {\"index\": 29, \"name\": \"K-002753\", \"shape\": 4},\n",
    "    {\"index\": 30, \"name\": \"K-002824\", \"shape\": 1},\n",
    "    {\"index\": 31, \"name\": \"K-002942\", \"shape\": 1},\n",
    "    {\"index\": 32, \"name\": \"K-002944\", \"shape\": 2},\n",
    "    {\"index\": 33, \"name\": \"K-003017\", \"shape\": 2},\n",
    "    {\"index\": 34, \"name\": \"K-003049\", \"shape\": 1},\n",
    "    {\"index\": 35, \"name\": \"K-003078\", \"shape\": 3},\n",
    "    {\"index\": 36, \"name\": \"K-003102\", \"shape\": 1},\n",
    "    {\"index\": 37, \"name\": \"K-003105\", \"shape\": 1},\n",
    "    {\"index\": 38, \"name\": \"K-003137\", \"shape\": 1},\n",
    "    {\"index\": 39, \"name\": \"K-003157\", \"shape\": 1},\n",
    "    {\"index\": 40, \"name\": \"K-003225\", \"shape\": 1},\n",
    "    {\"index\": 41, \"name\": \"K-003259\", \"shape\": 2},\n",
    "    {\"index\": 42, \"name\": \"K-003329\", \"shape\": 1},\n",
    "    {\"index\": 43, \"name\": \"K-003361\", \"shape\": 2},\n",
    "    {\"index\": 44, \"name\": \"K-003483\", \"shape\": 2},\n",
    "    {\"index\": 45, \"name\": \"K-003532\", \"shape\": 1},\n",
    "    {\"index\": 46, \"name\": \"K-003544\", \"shape\": 1},\n",
    "    {\"index\": 47, \"name\": \"K-003611\", \"shape\": 1},\n",
    "    {\"index\": 48, \"name\": \"K-003687\", \"shape\": 2},\n",
    "    {\"index\": 49, \"name\": \"K-003705\", \"shape\": 3},\n",
    "  ]\n",
    "}"
   ]
  },
  {
   "cell_type": "code",
   "execution_count": 7,
   "metadata": {},
   "outputs": [],
   "source": [
    "annotation_id = 1\n",
    "\n",
    "target_path = Path(TARGET_PATH)\n",
    "\n",
    "for image_id in range(1, DATA_SIZE+1):\n",
    "  img, mask, (_, labels, centroids, bboxes, contours)= generator.random_generate(\n",
    "    background.generate(), random.randint(1, 20), \n",
    "    scaling = 10, \n",
    "    max_try_of_random_position = 3, \n",
    "    max_try_of_adaptive_quadtree = 3,\n",
    "    padding = random.randint(0, 10), \n",
    "    bias = random.choice([True, False]), \n",
    "    regeneration = True\n",
    "  )\n",
    "\n",
    "  file_path = str(target_path / f\"D{image_id:07d}.png\")\n",
    "  cv2.imwrite(file_path, cv2.cvtColor(img, cv2.COLOR_RGBA2BGRA))\n",
    "\n",
    "  height, width = img.shape[:2]\n",
    "\n",
    "  dataset[\"images\"].append({\n",
    "    \"id\": image_id,\n",
    "    \"file_path\": file_path,\n",
    "    \"height\": height,\n",
    "    \"width\": width,\n",
    "    \"pill_count\": len(labels)\n",
    "  })\n",
    "\n",
    "  for label, centroid, bboxe, contour in zip(labels, centroids, bboxes, contours):\n",
    "    dataset[\"annotations\"].append({\n",
    "      \"id\": annotation_id,\n",
    "      \"label\": label,\n",
    "      \"image_id\": image_id,\n",
    "      \"centroid\": [float(centroid[0]), float(centroid[1])],\n",
    "      \"bbox\": [float(bboxe[0]), float(bboxe[1]), float(bboxe[2]), float(bboxe[3])],\n",
    "      \"segmentation\": contour.flatten().tolist(),\n",
    "    })\n",
    "\n",
    "    annotation_id += 1"
   ]
  },
  {
   "cell_type": "code",
   "execution_count": 8,
   "metadata": {},
   "outputs": [],
   "source": [
    "# raise Exception(\"Stop\")"
   ]
  },
  {
   "cell_type": "code",
   "execution_count": 9,
   "metadata": {},
   "outputs": [],
   "source": [
    "with open('/workspaces/dev/datasets/pills/dataset.json', 'w') as f:\n",
    "  json.dump(dataset, f, indent=4)"
   ]
  },
  {
   "cell_type": "code",
   "execution_count": null,
   "metadata": {},
   "outputs": [],
   "source": []
  }
 ],
 "metadata": {
  "kernelspec": {
   "display_name": "Python 3",
   "language": "python",
   "name": "python3"
  },
  "language_info": {
   "codemirror_mode": {
    "name": "ipython",
    "version": 3
   },
   "file_extension": ".py",
   "mimetype": "text/x-python",
   "name": "python",
   "nbconvert_exporter": "python",
   "pygments_lexer": "ipython3",
   "version": "3.10.12"
  }
 },
 "nbformat": 4,
 "nbformat_minor": 2
}
