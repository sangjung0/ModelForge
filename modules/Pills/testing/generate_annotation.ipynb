{
 "cells": [
  {
   "cell_type": "code",
   "execution_count": 4,
   "metadata": {},
   "outputs": [],
   "source": [
    "import cv2\n",
    "import json\n",
    "import numpy as np\n",
    "import pandas as pd\n",
    "from pathlib import Path"
   ]
  },
  {
   "cell_type": "code",
   "execution_count": 5,
   "metadata": {},
   "outputs": [],
   "source": [
    "SOURCE_PATH = 'datasets/pills/data/train'\n",
    "TARGET_PATH = 'datasets/pills/data/masked'\n",
    "LABEL_PATH = 'datasets/pills/class_label.csv'"
   ]
  },
  {
   "cell_type": "code",
   "execution_count": 6,
   "metadata": {},
   "outputs": [],
   "source": [
    "dataset = {\n",
    "    \"info\": {\"description\": \"Pill Segmentation Dataset\", \"version\": \"1.0\"},\n",
    "    \"images\": [],\n",
    "    \"annotations\": [],\n",
    "    \"shape_categories\": [\n",
    "        {\"id\": 1, \"name\": \"circle\"},\n",
    "        {\"id\": 2, \"name\": \"ellipse\"}\n",
    "    ]\n",
    "}"
   ]
  },
  {
   "cell_type": "code",
   "execution_count": 7,
   "metadata": {},
   "outputs": [],
   "source": [
    "class_label = pd.read_csv(LABEL_PATH, header=0)"
   ]
  },
  {
   "cell_type": "code",
   "execution_count": 8,
   "metadata": {},
   "outputs": [],
   "source": [
    "class_dict = {}\n",
    "for i, row in class_label.iterrows():\n",
    "  class_dict[row['class']] = row['label'].split('#')"
   ]
  },
  {
   "cell_type": "code",
   "execution_count": 9,
   "metadata": {},
   "outputs": [],
   "source": [
    "source_path = Path(SOURCE_PATH)"
   ]
  },
  {
   "cell_type": "code",
   "execution_count": 10,
   "metadata": {},
   "outputs": [
    {
     "name": "stdout",
     "output_type": "stream",
     "text": [
      "'NoneType' object is not subscriptable datasets/pills/data/train/C0694872/D1272727.png\n",
      "'NoneType' object is not subscriptable datasets/pills/data/train/C0765158/D1381935.png\n",
      "'NoneType' object is not subscriptable datasets/pills/data/train/C0779312/D1407143.png\n"
     ]
    }
   ],
   "source": [
    "annotation_id = 1\n",
    "image_id = 1\n",
    "for folder in source_path.iterdir():\n",
    "  for path in folder.iterdir():\n",
    "    try: \n",
    "      pill_types = []\n",
    "\n",
    "      kind_of_pills = class_dict[folder.stem]\n",
    "      \n",
    "      bgra_image = cv2.imread(path, cv2.IMREAD_UNCHANGED)\n",
    "      mask = (bgra_image[:,:,3] == 0)\n",
    "      bgra_image[mask, :] = 0\n",
    "\n",
    "      gray_image = cv2.cvtColor(bgra_image, cv2.COLOR_BGRA2GRAY)\n",
    "      \n",
    "      contours = cv2.findContours(gray_image, cv2.RETR_EXTERNAL, cv2.CHAIN_APPROX_SIMPLE)[0]\n",
    "      for cnt in contours:\n",
    "        x, y, w, h = cv2.boundingRect(cnt)\n",
    "        kind_of_pills = class_dict[folder.stem]\n",
    "\n",
    "        perimeter = cv2.arcLength(cnt, True)\n",
    "        area = cv2.contourArea(cnt)\n",
    "\n",
    "        if perimeter == 0:\n",
    "          continue\n",
    "        circularity = 4 * np.pi * area / perimeter**2\n",
    "        x, y, w, h = cv2.boundingRect(cnt)\n",
    "        aspect_ratio = w / float(h)\n",
    "        if circularity > 0.85 and 1.05 > aspect_ratio > 0.95:\n",
    "          pill_types.append(1)\n",
    "          pill_type = 1\n",
    "        else:\n",
    "          pill_types.append(2)\n",
    "          pill_type = 2\n",
    "          \n",
    "        M = cv2.moments(cnt)\n",
    "        if M['m00'] == 0:\n",
    "          continue\n",
    "        cx = int(M['m10']/M['m00'])\n",
    "        cy = int(M['m01']/M['m00'])\n",
    "          \n",
    "        dataset[\"annotations\"].append({\n",
    "          \"id\": annotation_id,\n",
    "          \"image_id\": image_id,\n",
    "          \"shape\": pill_type,\n",
    "          \"centroid\": [cx, cy],\n",
    "          \"bbox\": [x, y, w, h],\n",
    "          \"segmentation\": cnt.flatten().tolist(),\n",
    "        })\n",
    "\n",
    "        annotation_id += 1\n",
    "\n",
    "      dataset[\"images\"].append({\n",
    "        \"id\": image_id,\n",
    "        \"file_path\": \"data/train/\" + folder.stem + \"/\" + path.name,\n",
    "        \"height\": bgra_image.shape[0],\n",
    "        \"width\": bgra_image.shape[1],\n",
    "        \"pill_count\": len(kind_of_pills),\n",
    "        \"kind_of_pills\": kind_of_pills,\n",
    "        \"pill_shapes\": list(set(pill_types))\n",
    "      })\n",
    "    \n",
    "      image_id += 1\n",
    "    except Exception as e:\n",
    "      print(e, path)"
   ]
  },
  {
   "cell_type": "code",
   "execution_count": 12,
   "metadata": {},
   "outputs": [],
   "source": [
    "with open('datasets/pills/data/dataset.json', 'w') as f:\n",
    "    json.dump(dataset, f, indent=4)"
   ]
  },
  {
   "cell_type": "code",
   "execution_count": null,
   "metadata": {},
   "outputs": [],
   "source": []
  }
 ],
 "metadata": {
  "kernelspec": {
   "display_name": "Python 3",
   "language": "python",
   "name": "python3"
  },
  "language_info": {
   "codemirror_mode": {
    "name": "ipython",
    "version": 3
   },
   "file_extension": ".py",
   "mimetype": "text/x-python",
   "name": "python",
   "nbconvert_exporter": "python",
   "pygments_lexer": "ipython3",
   "version": "3.10.12"
  }
 },
 "nbformat": 4,
 "nbformat_minor": 2
}
