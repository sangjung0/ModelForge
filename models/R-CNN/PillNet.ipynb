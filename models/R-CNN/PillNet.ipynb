{
 "cells": [
  {
   "cell_type": "code",
   "execution_count": 1,
   "metadata": {},
   "outputs": [],
   "source": [
    "import os\n",
    "import sys \n",
    "os.chdir(\"/workspaces/dev/modules\")\n",
    "sys.path.append(\"/workspaces/dev/models/R-CNN\")"
   ]
  },
  {
   "cell_type": "code",
   "execution_count": 2,
   "metadata": {},
   "outputs": [
    {
     "name": "stderr",
     "output_type": "stream",
     "text": [
      "2025-03-10 04:58:12.127422: I tensorflow/core/util/port.cc:153] oneDNN custom operations are on. You may see slightly different numerical results due to floating-point round-off errors from different computation orders. To turn them off, set the environment variable `TF_ENABLE_ONEDNN_OPTS=0`.\n",
      "2025-03-10 04:58:12.138209: E external/local_xla/xla/stream_executor/cuda/cuda_fft.cc:477] Unable to register cuFFT factory: Attempting to register factory for plugin cuFFT when one has already been registered\n",
      "WARNING: All log messages before absl::InitializeLog() is called are written to STDERR\n",
      "E0000 00:00:1741582692.149543   39218 cuda_dnn.cc:8310] Unable to register cuDNN factory: Attempting to register factory for plugin cuDNN when one has already been registered\n",
      "E0000 00:00:1741582692.152673   39218 cuda_blas.cc:1418] Unable to register cuBLAS factory: Attempting to register factory for plugin cuBLAS when one has already been registered\n",
      "2025-03-10 04:58:12.164025: I tensorflow/core/platform/cpu_feature_guard.cc:210] This TensorFlow binary is optimized to use available CPU instructions in performance-critical operations.\n",
      "To enable the following instructions: AVX2 AVX_VNNI FMA, in other operations, rebuild TensorFlow with the appropriate compiler flags.\n"
     ]
    }
   ],
   "source": [
    "from tensorflow import keras\n",
    "import tensorflow as tf"
   ]
  },
  {
   "cell_type": "code",
   "execution_count": 3,
   "metadata": {},
   "outputs": [],
   "source": [
    "from Pills.GenerativeSequence import GenerativeSequence\n",
    "from PillNet import PillNet"
   ]
  },
  {
   "cell_type": "code",
   "execution_count": 4,
   "metadata": {},
   "outputs": [],
   "source": [
    "SOURCE_PATH = '/workspaces/dev/datasets/pills/data'\n",
    "LABEL_PATH = '/workspaces/dev/datasets/pills/class_label.csv'\n",
    "BACKGROUND_IMAGEES_PATH = '/workspaces/dev/data'"
   ]
  },
  {
   "cell_type": "code",
   "execution_count": 5,
   "metadata": {},
   "outputs": [],
   "source": [
    "TRAIN_DATA_SIZE = 60000\n",
    "VALIDATION_DATA_SIZE = 20000\n",
    "BATCH_SIZE = 16\n",
    "INPUT_SIZE = (128, 128, 3)"
   ]
  },
  {
   "cell_type": "code",
   "execution_count": 6,
   "metadata": {},
   "outputs": [
    {
     "name": "stderr",
     "output_type": "stream",
     "text": [
      "I0000 00:00:1741582694.400117   39218 gpu_device.cc:2022] Created device /job:localhost/replica:0/task:0/device:GPU:0 with 9502 MB memory:  -> device: 0, name: NVIDIA GeForce RTX 4070 Ti, pci bus id: 0000:01:00.0, compute capability: 8.9\n"
     ]
    },
    {
     "data": {
      "text/html": [
       "<pre style=\"white-space:pre;overflow-x:auto;line-height:normal;font-family:Menlo,'DejaVu Sans Mono',consolas,'Courier New',monospace\"><span style=\"font-weight: bold\">Model: \"pill_net\"</span>\n",
       "</pre>\n"
      ],
      "text/plain": [
       "\u001b[1mModel: \"pill_net\"\u001b[0m\n"
      ]
     },
     "metadata": {},
     "output_type": "display_data"
    },
    {
     "data": {
      "text/html": [
       "<pre style=\"white-space:pre;overflow-x:auto;line-height:normal;font-family:Menlo,'DejaVu Sans Mono',consolas,'Courier New',monospace\">┏━━━━━━━━━━━━━━━━━━━━━━━━━━━━━━━━━┳━━━━━━━━━━━━━━━━━━━━━━━━┳━━━━━━━━━━━━━━━┓\n",
       "┃<span style=\"font-weight: bold\"> Layer (type)                    </span>┃<span style=\"font-weight: bold\"> Output Shape           </span>┃<span style=\"font-weight: bold\">       Param # </span>┃\n",
       "┡━━━━━━━━━━━━━━━━━━━━━━━━━━━━━━━━━╇━━━━━━━━━━━━━━━━━━━━━━━━╇━━━━━━━━━━━━━━━┩\n",
       "│ FeatureExtractor (<span style=\"color: #0087ff; text-decoration-color: #0087ff\">Sequential</span>)   │ (<span style=\"color: #00d7ff; text-decoration-color: #00d7ff\">None</span>, <span style=\"color: #00af00; text-decoration-color: #00af00\">32</span>, <span style=\"color: #00af00; text-decoration-color: #00af00\">32</span>, <span style=\"color: #00af00; text-decoration-color: #00af00\">32</span>)     │       <span style=\"color: #00af00; text-decoration-color: #00af00\">130,160</span> │\n",
       "├─────────────────────────────────┼────────────────────────┼───────────────┤\n",
       "│ ROIHead (<span style=\"color: #0087ff; text-decoration-color: #0087ff\">Sequential</span>)            │ (<span style=\"color: #00d7ff; text-decoration-color: #00d7ff\">None</span>, <span style=\"color: #00af00; text-decoration-color: #00af00\">128</span>, <span style=\"color: #00af00; text-decoration-color: #00af00\">128</span>, <span style=\"color: #00af00; text-decoration-color: #00af00\">1</span>)    │         <span style=\"color: #00af00; text-decoration-color: #00af00\">5,793</span> │\n",
       "├─────────────────────────────────┼────────────────────────┼───────────────┤\n",
       "│ DetectionHead (<span style=\"color: #0087ff; text-decoration-color: #0087ff\">Sequential</span>)      │ (<span style=\"color: #00d7ff; text-decoration-color: #00d7ff\">None</span>, <span style=\"color: #00af00; text-decoration-color: #00af00\">16</span>, <span style=\"color: #00af00; text-decoration-color: #00af00\">4</span>)          │     <span style=\"color: #00af00; text-decoration-color: #00af00\">3,250,564</span> │\n",
       "├─────────────────────────────────┼────────────────────────┼───────────────┤\n",
       "│ CentroidHead (<span style=\"color: #0087ff; text-decoration-color: #0087ff\">Sequential</span>)       │ (<span style=\"color: #00d7ff; text-decoration-color: #00d7ff\">None</span>, <span style=\"color: #00af00; text-decoration-color: #00af00\">2</span>)              │        <span style=\"color: #00af00; text-decoration-color: #00af00\">23,210</span> │\n",
       "├─────────────────────────────────┼────────────────────────┼───────────────┤\n",
       "│ SegmentationHead (<span style=\"color: #0087ff; text-decoration-color: #0087ff\">Sequential</span>)   │ (<span style=\"color: #00d7ff; text-decoration-color: #00d7ff\">None</span>, <span style=\"color: #00af00; text-decoration-color: #00af00\">32</span>, <span style=\"color: #00af00; text-decoration-color: #00af00\">32</span>, <span style=\"color: #00af00; text-decoration-color: #00af00\">1</span>)      │        <span style=\"color: #00af00; text-decoration-color: #00af00\">37,913</span> │\n",
       "├─────────────────────────────────┼────────────────────────┼───────────────┤\n",
       "│ ClassificationHead (<span style=\"color: #0087ff; text-decoration-color: #0087ff\">Sequential</span>) │ (<span style=\"color: #00d7ff; text-decoration-color: #00d7ff\">None</span>, <span style=\"color: #00af00; text-decoration-color: #00af00\">50</span>)             │     <span style=\"color: #00af00; text-decoration-color: #00af00\">1,367,410</span> │\n",
       "└─────────────────────────────────┴────────────────────────┴───────────────┘\n",
       "</pre>\n"
      ],
      "text/plain": [
       "┏━━━━━━━━━━━━━━━━━━━━━━━━━━━━━━━━━┳━━━━━━━━━━━━━━━━━━━━━━━━┳━━━━━━━━━━━━━━━┓\n",
       "┃\u001b[1m \u001b[0m\u001b[1mLayer (type)                   \u001b[0m\u001b[1m \u001b[0m┃\u001b[1m \u001b[0m\u001b[1mOutput Shape          \u001b[0m\u001b[1m \u001b[0m┃\u001b[1m \u001b[0m\u001b[1m      Param #\u001b[0m\u001b[1m \u001b[0m┃\n",
       "┡━━━━━━━━━━━━━━━━━━━━━━━━━━━━━━━━━╇━━━━━━━━━━━━━━━━━━━━━━━━╇━━━━━━━━━━━━━━━┩\n",
       "│ FeatureExtractor (\u001b[38;5;33mSequential\u001b[0m)   │ (\u001b[38;5;45mNone\u001b[0m, \u001b[38;5;34m32\u001b[0m, \u001b[38;5;34m32\u001b[0m, \u001b[38;5;34m32\u001b[0m)     │       \u001b[38;5;34m130,160\u001b[0m │\n",
       "├─────────────────────────────────┼────────────────────────┼───────────────┤\n",
       "│ ROIHead (\u001b[38;5;33mSequential\u001b[0m)            │ (\u001b[38;5;45mNone\u001b[0m, \u001b[38;5;34m128\u001b[0m, \u001b[38;5;34m128\u001b[0m, \u001b[38;5;34m1\u001b[0m)    │         \u001b[38;5;34m5,793\u001b[0m │\n",
       "├─────────────────────────────────┼────────────────────────┼───────────────┤\n",
       "│ DetectionHead (\u001b[38;5;33mSequential\u001b[0m)      │ (\u001b[38;5;45mNone\u001b[0m, \u001b[38;5;34m16\u001b[0m, \u001b[38;5;34m4\u001b[0m)          │     \u001b[38;5;34m3,250,564\u001b[0m │\n",
       "├─────────────────────────────────┼────────────────────────┼───────────────┤\n",
       "│ CentroidHead (\u001b[38;5;33mSequential\u001b[0m)       │ (\u001b[38;5;45mNone\u001b[0m, \u001b[38;5;34m2\u001b[0m)              │        \u001b[38;5;34m23,210\u001b[0m │\n",
       "├─────────────────────────────────┼────────────────────────┼───────────────┤\n",
       "│ SegmentationHead (\u001b[38;5;33mSequential\u001b[0m)   │ (\u001b[38;5;45mNone\u001b[0m, \u001b[38;5;34m32\u001b[0m, \u001b[38;5;34m32\u001b[0m, \u001b[38;5;34m1\u001b[0m)      │        \u001b[38;5;34m37,913\u001b[0m │\n",
       "├─────────────────────────────────┼────────────────────────┼───────────────┤\n",
       "│ ClassificationHead (\u001b[38;5;33mSequential\u001b[0m) │ (\u001b[38;5;45mNone\u001b[0m, \u001b[38;5;34m50\u001b[0m)             │     \u001b[38;5;34m1,367,410\u001b[0m │\n",
       "└─────────────────────────────────┴────────────────────────┴───────────────┘\n"
      ]
     },
     "metadata": {},
     "output_type": "display_data"
    },
    {
     "data": {
      "text/html": [
       "<pre style=\"white-space:pre;overflow-x:auto;line-height:normal;font-family:Menlo,'DejaVu Sans Mono',consolas,'Courier New',monospace\"><span style=\"font-weight: bold\"> Total params: </span><span style=\"color: #00af00; text-decoration-color: #00af00\">4,815,050</span> (18.37 MB)\n",
       "</pre>\n"
      ],
      "text/plain": [
       "\u001b[1m Total params: \u001b[0m\u001b[38;5;34m4,815,050\u001b[0m (18.37 MB)\n"
      ]
     },
     "metadata": {},
     "output_type": "display_data"
    },
    {
     "data": {
      "text/html": [
       "<pre style=\"white-space:pre;overflow-x:auto;line-height:normal;font-family:Menlo,'DejaVu Sans Mono',consolas,'Courier New',monospace\"><span style=\"font-weight: bold\"> Trainable params: </span><span style=\"color: #00af00; text-decoration-color: #00af00\">4,815,050</span> (18.37 MB)\n",
       "</pre>\n"
      ],
      "text/plain": [
       "\u001b[1m Trainable params: \u001b[0m\u001b[38;5;34m4,815,050\u001b[0m (18.37 MB)\n"
      ]
     },
     "metadata": {},
     "output_type": "display_data"
    },
    {
     "data": {
      "text/html": [
       "<pre style=\"white-space:pre;overflow-x:auto;line-height:normal;font-family:Menlo,'DejaVu Sans Mono',consolas,'Courier New',monospace\"><span style=\"font-weight: bold\"> Non-trainable params: </span><span style=\"color: #00af00; text-decoration-color: #00af00\">0</span> (0.00 B)\n",
       "</pre>\n"
      ],
      "text/plain": [
       "\u001b[1m Non-trainable params: \u001b[0m\u001b[38;5;34m0\u001b[0m (0.00 B)\n"
      ]
     },
     "metadata": {},
     "output_type": "display_data"
    }
   ],
   "source": [
    "model = PillNet(BATCH_SIZE, 50)\n",
    "model.summary()"
   ]
  },
  {
   "cell_type": "code",
   "execution_count": 7,
   "metadata": {},
   "outputs": [],
   "source": [
    "train_sequence = GenerativeSequence(\n",
    "  TRAIN_DATA_SIZE, BATCH_SIZE, input_size = INPUT_SIZE[:2],material_path=SOURCE_PATH,\n",
    "  label_path=LABEL_PATH, background_images_path=BACKGROUND_IMAGEES_PATH,\n",
    "  use_multiprocessing=True, workers = 12\n",
    ")\n",
    "validation_sequence = GenerativeSequence(\n",
    "  VALIDATION_DATA_SIZE, BATCH_SIZE, input_size = INPUT_SIZE[:2],material_path=SOURCE_PATH,\n",
    "  label_path=LABEL_PATH, background_images_path=BACKGROUND_IMAGEES_PATH,\n",
    "  use_multiprocessing=True, workers = 8\n",
    ")\n",
    "train_dataset = tf.data.Dataset.from_generator(\n",
    "  lambda: train_sequence, \n",
    "  output_signature=(\n",
    "    tf.TensorSpec(shape=(BATCH_SIZE, INPUT_SIZE[0], INPUT_SIZE[1], INPUT_SIZE[2]), dtype=tf.float32),\n",
    "    {\n",
    "      \"roi\": tf.TensorSpec(shape=(BATCH_SIZE, INPUT_SIZE[0], INPUT_SIZE[1]), dtype=tf.bool),\n",
    "      \"centroid\": tf.TensorSpec(shape=(BATCH_SIZE * 16, 2), dtype=tf.float32),\n",
    "      \"detection\": tf.TensorSpec(shape=(BATCH_SIZE * 16, 4), dtype=tf.float32),\n",
    "      \"segmentation\": tf.TensorSpec(shape=(BATCH_SIZE * 16, INPUT_SIZE[0]//4, INPUT_SIZE[1]//4), dtype=tf.bool),\n",
    "      \"classification\": tf.TensorSpec(shape=(BATCH_SIZE * 16), dtype=tf.uint32)\n",
    "    }\n",
    "  )\n",
    ")"
   ]
  },
  {
   "cell_type": "code",
   "execution_count": 8,
   "metadata": {},
   "outputs": [],
   "source": [
    "model.compile()"
   ]
  },
  {
   "cell_type": "code",
   "execution_count": 9,
   "metadata": {},
   "outputs": [],
   "source": [
    "checkpoint_cb = keras.callbacks.ModelCheckpoint(\n",
    "  filepath=\"/workspaces/dev/models/R-CNN/checkpoints/pill_net.keras\",\n",
    "  monitor=\"val_loss\",\n",
    "  save_best_only=True,\n",
    "  save_weights_only=False,\n",
    "  verbose = 1\n",
    ")"
   ]
  },
  {
   "cell_type": "code",
   "execution_count": 10,
   "metadata": {},
   "outputs": [],
   "source": [
    "early_stopping_cb = keras.callbacks.EarlyStopping(\n",
    "  monitor=\"val_loss\",\n",
    "  patience=10,\n",
    "  restore_best_weights=True,\n",
    "  verbose = 1\n",
    ")"
   ]
  },
  {
   "cell_type": "code",
   "execution_count": null,
   "metadata": {},
   "outputs": [
    {
     "name": "stdout",
     "output_type": "stream",
     "text": [
      "Epoch 1/100\n"
     ]
    },
    {
     "name": "stderr",
     "output_type": "stream",
     "text": [
      "WARNING: All log messages before absl::InitializeLog() is called are written to STDERR\n",
      "I0000 00:00:1741582732.224391   39447 service.cc:148] XLA service 0x7f79cc00bd40 initialized for platform CUDA (this does not guarantee that XLA will be used). Devices:\n",
      "I0000 00:00:1741582732.224436   39447 service.cc:156]   StreamExecutor device (0): NVIDIA GeForce RTX 4070 Ti, Compute Capability 8.9\n",
      "2025-03-10 04:58:52.379757: I tensorflow/compiler/mlir/tensorflow/utils/dump_mlir_util.cc:268] disabling MLIR crash reproducer, set env var `MLIR_CRASH_REPRODUCER_DIRECTORY` to enable.\n",
      "W0000 00:00:1741582732.650928   39447 assert_op.cc:38] Ignoring Assert operator pill_net_1/map/while/crop_to_bounding_box/Assert/Assert\n",
      "W0000 00:00:1741582732.651006   39447 assert_op.cc:38] Ignoring Assert operator pill_net_1/map/while/crop_to_bounding_box/Assert_1/Assert\n",
      "W0000 00:00:1741582732.652194   39447 assert_op.cc:38] Ignoring Assert operator pill_net_1/map/while/crop_to_bounding_box/Assert_2/Assert\n",
      "W0000 00:00:1741582732.652259   39447 assert_op.cc:38] Ignoring Assert operator pill_net_1/map/while/crop_to_bounding_box/Assert_3/Assert\n",
      "W0000 00:00:1741582732.652611   39447 assert_op.cc:38] Ignoring Assert operator pill_net_1/map/while/crop_to_bounding_box/Assert_4/Assert\n",
      "W0000 00:00:1741582732.652678   39447 assert_op.cc:38] Ignoring Assert operator pill_net_1/map/while/crop_to_bounding_box/Assert_5/Assert\n",
      "W0000 00:00:1741582732.657959   39447 assert_op.cc:38] Ignoring Assert operator pill_net_1/map/while/crop_to_bounding_box/Assert/Assert\n",
      "W0000 00:00:1741582732.657994   39447 assert_op.cc:38] Ignoring Assert operator pill_net_1/map/while/crop_to_bounding_box/Assert_1/Assert\n",
      "W0000 00:00:1741582732.658088   39447 assert_op.cc:38] Ignoring Assert operator pill_net_1/map/while/crop_to_bounding_box/Assert_2/Assert\n",
      "W0000 00:00:1741582732.658107   39447 assert_op.cc:38] Ignoring Assert operator pill_net_1/map/while/crop_to_bounding_box/Assert_3/Assert\n",
      "W0000 00:00:1741582732.658131   39447 assert_op.cc:38] Ignoring Assert operator pill_net_1/map/while/crop_to_bounding_box/Assert_4/Assert\n",
      "W0000 00:00:1741582732.658150   39447 assert_op.cc:38] Ignoring Assert operator pill_net_1/map/while/crop_to_bounding_box/Assert_5/Assert\n",
      "I0000 00:00:1741582733.028390   39447 cuda_dnn.cc:529] Loaded cuDNN version 90300\n",
      "2025-03-10 04:58:54.514600: I external/local_xla/xla/stream_executor/cuda/cuda_asm_compiler.cc:397] ptxas warning : Registers are spilled to local memory in function 'gemm_fusion_dot_3405', 212 bytes spill stores, 212 bytes spill loads\n",
      "\n",
      "2025-03-10 04:58:54.625267: I external/local_xla/xla/stream_executor/cuda/cuda_asm_compiler.cc:397] ptxas warning : Registers are spilled to local memory in function 'gemm_fusion_dot_3567', 12 bytes spill stores, 12 bytes spill loads\n",
      "\n",
      "2025-03-10 04:58:54.911605: I external/local_xla/xla/stream_executor/cuda/cuda_asm_compiler.cc:397] ptxas warning : Registers are spilled to local memory in function 'gemm_fusion_dot_3405', 292 bytes spill stores, 292 bytes spill loads\n",
      "\n",
      "2025-03-10 04:58:54.993714: I external/local_xla/xla/stream_executor/cuda/cuda_asm_compiler.cc:397] ptxas warning : Registers are spilled to local memory in function 'gemm_fusion_dot_3405', 92 bytes spill stores, 92 bytes spill loads\n",
      "\n"
     ]
    },
    {
     "name": "stdout",
     "output_type": "stream",
     "text": [
      "\u001b[1m   1/3750\u001b[0m \u001b[37m━━━━━━━━━━━━━━━━━━━━\u001b[0m \u001b[1m21:01:22\u001b[0m 20s/step - centroid_loss: 0.0042 - classification_loss: 3.9182 - detection_loss: 0.0131 - roi_loss: 0.6512 - segmentation_loss: 0.6616 - total_loss: 5.2482"
     ]
    },
    {
     "name": "stderr",
     "output_type": "stream",
     "text": [
      "I0000 00:00:1741582745.637935   39447 device_compiler.h:188] Compiled cluster using XLA!  This line is logged at most once for the lifetime of the process.\n",
      "W0000 00:00:1741582746.159396   39446 assert_op.cc:38] Ignoring Assert operator pill_net_1/map/while/crop_to_bounding_box/Assert/Assert\n",
      "W0000 00:00:1741582746.159437   39446 assert_op.cc:38] Ignoring Assert operator pill_net_1/map/while/crop_to_bounding_box/Assert_1/Assert\n",
      "W0000 00:00:1741582746.159537   39446 assert_op.cc:38] Ignoring Assert operator pill_net_1/map/while/crop_to_bounding_box/Assert_2/Assert\n",
      "W0000 00:00:1741582746.159542   39446 assert_op.cc:38] Ignoring Assert operator pill_net_1/map/while/crop_to_bounding_box/Assert_3/Assert\n",
      "W0000 00:00:1741582746.159557   39446 assert_op.cc:38] Ignoring Assert operator pill_net_1/map/while/crop_to_bounding_box/Assert_4/Assert\n",
      "W0000 00:00:1741582746.159561   39446 assert_op.cc:38] Ignoring Assert operator pill_net_1/map/while/crop_to_bounding_box/Assert_5/Assert\n",
      "W0000 00:00:1741582746.163808   39446 assert_op.cc:38] Ignoring Assert operator pill_net_1/map/while/crop_to_bounding_box/Assert/Assert\n",
      "W0000 00:00:1741582746.163847   39446 assert_op.cc:38] Ignoring Assert operator pill_net_1/map/while/crop_to_bounding_box/Assert_1/Assert\n"
     ]
    },
    {
     "name": "stdout",
     "output_type": "stream",
     "text": [
      "\u001b[1m  39/3750\u001b[0m \u001b[37m━━━━━━━━━━━━━━━━━━━━\u001b[0m \u001b[1m6:06:59\u001b[0m 6s/step - centroid_loss: 0.0033 - classification_loss: 3.9164 - detection_loss: 0.0183 - roi_loss: 0.5081 - segmentation_loss: 0.3976 - total_loss: 4.8438"
     ]
    }
   ],
   "source": [
    "model.fit(\n",
    "  train_sequence,\n",
    "  validation_data=validation_sequence,\n",
    "  epochs=100,\n",
    "  callbacks=[checkpoint_cb, early_stopping_cb],\n",
    "  verbose=1\n",
    ")"
   ]
  }
 ],
 "metadata": {
  "kernelspec": {
   "display_name": "Python 3",
   "language": "python",
   "name": "python3"
  },
  "language_info": {
   "codemirror_mode": {
    "name": "ipython",
    "version": 3
   },
   "file_extension": ".py",
   "mimetype": "text/x-python",
   "name": "python",
   "nbconvert_exporter": "python",
   "pygments_lexer": "ipython3",
   "version": "3.10.12"
  }
 },
 "nbformat": 4,
 "nbformat_minor": 2
}
