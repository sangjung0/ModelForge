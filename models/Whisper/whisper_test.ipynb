{
 "cells": [
  {
   "cell_type": "code",
   "execution_count": 3,
   "metadata": {},
   "outputs": [],
   "source": [
    "import os\n",
    "import sys \n",
    "os.chdir(\"/workspaces/dev/modules\")\n",
    "sys.path.append(\"/workspaces/dev/models/Whisper\")"
   ]
  },
  {
   "cell_type": "markdown",
   "metadata": {},
   "source": [
    "### MIT License"
   ]
  },
  {
   "cell_type": "code",
   "execution_count": 4,
   "metadata": {},
   "outputs": [
    {
     "name": "stderr",
     "output_type": "stream",
     "text": [
      "/usr/local/lib/python3.10/dist-packages/tqdm/auto.py:21: TqdmWarning: IProgress not found. Please update jupyter and ipywidgets. See https://ipywidgets.readthedocs.io/en/stable/user_install.html\n",
      "  from .autonotebook import tqdm as notebook_tqdm\n"
     ]
    }
   ],
   "source": [
    "from faster_whisper import WhisperModel, BatchedInferencePipeline"
   ]
  },
  {
   "cell_type": "code",
   "execution_count": 5,
   "metadata": {},
   "outputs": [],
   "source": [
    "TEST_AUDIO_FILE = \"/workspaces/dev/data/audio/news_with_english.mp3\"\n",
    "MODEL_SIZE = \"large-v3\""
   ]
  },
  {
   "cell_type": "code",
   "execution_count": 6,
   "metadata": {},
   "outputs": [],
   "source": [
    "model = WhisperModel(MODEL_SIZE, device=\"cuda\", compute_type=\"int8\")"
   ]
  },
  {
   "cell_type": "code",
   "execution_count": 7,
   "metadata": {},
   "outputs": [
    {
     "name": "stdout",
     "output_type": "stream",
     "text": [
      "Detected language 'ko' with probability 1.000000\n",
      "[0.00s -> 7.88s]  BBC 생방송 인터뷰 도중에 자녀 난입 사건으로 스타가 된 미국인 교수 가족이 오늘 카메라 앞에 섰습니다.\n",
      "[8.74s -> 13.46s]  유튜브 스타가 된 4살짜리 딸은 이번엔 사탕을 입에 물고 등장했습니다.\n",
      "[13.96s -> 14.96s]  배영진 기자입니다.\n",
      "[17.74s -> 23.34s]  BBC 인터뷰 도중 딸과 아들의 등장으로 일약 스타가 된 로버트 켈리 부산대 교수.\n",
      "[23.34s -> 30.02s]  유튜브 영상 조회수가 1600만 건이 넘는 듯 켈리 교수 가족은 세계적인 유명 인사가 됐습니다.\n",
      "[30.68s -> 35.20s]  이렇게 언론의 관심이 커지자 켈리 교수 가족이 기자회견에 나섰습니다.\n",
      "[35.86s -> 38.66s]  춤을 췄던 첫째 딸 메리아는 사탕을 물었고.\n",
      "[44.04s -> 47.10s]  둘째 아들 존은 엄마 품에 안긴 모습이었습니다.\n",
      "[53.34s -> 64.68s]  귀여운 춤으로 화제가 된 딸에 대한 질문도 잇따랐습니다.\n",
      "[71.52s -> 77.08s]  당시 BBC와 인터뷰한 내용은 한국의 대통령 탄핵 사건이었습니다.\n",
      "[83.34s -> 96.18s]  일부 외국 대치님들이 켈리 교수의 한국의 아내를 보모로 오해한 것에 대해선 오히려 의연하게 대체했습니다.\n",
      "[108.68s -> 111.92s]  켈리 교수는 아내와 2008년 한국에서 만나.\n",
      "[112.32s -> 113.28s]  2010년에 소통했습니다.\n",
      "[113.28s -> 113.32s]  켈리 교수는 아내와 2008년 한국에서 만나.\n",
      "[113.32s -> 115.42s]  켈리 교수는 서울에서 결혼식을 올렸다고 말했습니다.\n",
      "[116.18s -> 117.50s]  채널A 뉴스 배영진입니다.\n",
      "[117.50s -> 147.48s]  채널A 뉴스 배영진입니다.\n"
     ]
    }
   ],
   "source": [
    "segments, info = model.transcribe(TEST_AUDIO_FILE, beam_size=5)\n",
    "\n",
    "print(\"Detected language '%s' with probability %f\" % (info.language, info.language_probability))\n",
    "\n",
    "for segment in segments:\n",
    "    print(\"[%.2fs -> %.2fs] %s\" % (segment.start, segment.end, segment.text))"
   ]
  },
  {
   "cell_type": "code",
   "execution_count": 8,
   "metadata": {},
   "outputs": [
    {
     "name": "stdout",
     "output_type": "stream",
     "text": [
      "[0.08s -> 14.66s]  BBC 생방송 인터뷰 도중에 자녀 난입 사건으로 스타가 된 미국인 교수 가족이 오늘 카메라 앞에 섰습니다. 유튜브 스타가 된 4살짜리 딸은 이번엔 사탕을 입에 물고 등장했습니다. 배영진 기자입니다.\n",
      "[27.12s -> 46.96s]  켈리 교수 가족은 세계적인 유명 인사가 됐습니다. 이렇게 언론의 관심이 커지자 켈리 교수 가족이 기자회견에 나섰습니다. 춤을 췄던 첫째 딸 메리아는 사탕을 물었고 둘째 아들 존은 엄마 품에 안긴 모습이었습니다.\n",
      "[60.98s -> 76.32s]  귀여운 춤으로 화제가 된 딸에 대한 질문도 잇따랐습니다. 당시 BBC와 인터뷰한 내용은 한국의 대통령 탄핵 사건이었습니다.\n",
      "[89.22s -> 115.30s]  일부 외국 대치진들이 켈리 교수의 한국의 아내를 보모로 오해한 것에 대해선 오히려 의연하게 대체했습니다. 켈리 교수는 아내와 2008년 한국에서 만나 2010년에 서울에서 결혼식을 올렸다고 말했습니다.\n",
      "[115.95s -> 117.39s]  채널A 뉴스 배용진입니다.\n"
     ]
    }
   ],
   "source": [
    "batched_model = BatchedInferencePipeline(model)\n",
    "segments, info = batched_model.transcribe(TEST_AUDIO_FILE, batch_size=8, beam_size=5, language=None, word_timestamps=True, vad_filter=True, initial_prompt=\"This audio is in Korean. but, some English words are included.\")\n",
    "\n",
    "for segment in segments:\n",
    "    print(\"[%.2fs -> %.2fs] %s\" % (segment.start, segment.end, segment.text))"
   ]
  },
  {
   "cell_type": "code",
   "execution_count": null,
   "metadata": {},
   "outputs": [],
   "source": []
  }
 ],
 "metadata": {
  "kernelspec": {
   "display_name": "Python 3",
   "language": "python",
   "name": "python3"
  },
  "language_info": {
   "codemirror_mode": {
    "name": "ipython",
    "version": 3
   },
   "file_extension": ".py",
   "mimetype": "text/x-python",
   "name": "python",
   "nbconvert_exporter": "python",
   "pygments_lexer": "ipython3",
   "version": "3.10.12"
  }
 },
 "nbformat": 4,
 "nbformat_minor": 2
}
