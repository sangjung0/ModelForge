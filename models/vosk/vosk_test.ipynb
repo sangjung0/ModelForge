{
 "cells": [
  {
   "cell_type": "code",
   "execution_count": 1,
   "metadata": {},
   "outputs": [],
   "source": [
    "import os\n",
    "os.chdir(\"/workspaces/dev/modules\")"
   ]
  },
  {
   "cell_type": "code",
   "execution_count": null,
   "metadata": {},
   "outputs": [
    {
     "name": "stderr",
     "output_type": "stream",
     "text": [
      "/usr/local/lib/python3.10/dist-packages/pydub/utils.py:170: RuntimeWarning: Couldn't find ffmpeg or avconv - defaulting to ffmpeg, but may not work\n",
      "  warn(\"Couldn't find ffmpeg or avconv - defaulting to ffmpeg, but may not work\", RuntimeWarning)\n"
     ]
    }
   ],
   "source": [
    "from vosk import Model, KaldiRecognizer\n",
    "import wave\n",
    "import json"
   ]
  },
  {
   "cell_type": "code",
   "execution_count": 3,
   "metadata": {},
   "outputs": [],
   "source": [
    "MP3_PATH = \"/workspaces/dev/data/audio/news_with_english.wav\"\n",
    "MODEL_PATH = \"/workspaces/dev/_Shared/Models/vosk/vosk-model-small-ko-0.22\""
   ]
  },
  {
   "cell_type": "code",
   "execution_count": 4,
   "metadata": {},
   "outputs": [
    {
     "name": "stderr",
     "output_type": "stream",
     "text": [
      "LOG (VoskAPI:ReadDataFiles():model.cc:213) Decoding params beam=10 max-active=3000 lattice-beam=2\n",
      "LOG (VoskAPI:ReadDataFiles():model.cc:216) Silence phones 1:2:3:4:5:6:7:8:9:10\n",
      "LOG (VoskAPI:RemoveOrphanNodes():nnet-nnet.cc:948) Removed 1 orphan nodes.\n",
      "LOG (VoskAPI:RemoveOrphanComponents():nnet-nnet.cc:847) Removing 2 orphan components.\n",
      "LOG (VoskAPI:Collapse():nnet-utils.cc:1488) Added 1 components, removed 2\n",
      "LOG (VoskAPI:ReadDataFiles():model.cc:248) Loading i-vector extractor from /workspaces/dev/_Shared/Models/vosk/vosk-model-small-ko-0.22/ivector/final.ie\n",
      "LOG (VoskAPI:ComputeDerivedVars():ivector-extractor.cc:183) Computing derived variables for iVector extractor\n",
      "LOG (VoskAPI:ComputeDerivedVars():ivector-extractor.cc:204) Done.\n",
      "LOG (VoskAPI:ReadDataFiles():model.cc:282) Loading HCL and G from /workspaces/dev/_Shared/Models/vosk/vosk-model-small-ko-0.22/graph/HCLr.fst /workspaces/dev/_Shared/Models/vosk/vosk-model-small-ko-0.22/graph/Gr.fst\n",
      "LOG (VoskAPI:ReadDataFiles():model.cc:308) Loading winfo /workspaces/dev/_Shared/Models/vosk/vosk-model-small-ko-0.22/graph/phones/word_boundary.int\n"
     ]
    }
   ],
   "source": [
    "model = Model(MODEL_PATH)"
   ]
  },
  {
   "cell_type": "code",
   "execution_count": 7,
   "metadata": {},
   "outputs": [],
   "source": [
    "def recognize_audio(path):\n",
    "    with wave.open(path, \"rb\") as wf:\n",
    "      rec = KaldiRecognizer(model, wf.getframerate())\n",
    "\n",
    "      results = []\n",
    "      while True:\n",
    "        data = wf.readframes(4000)\n",
    "        if len(data) == 0:\n",
    "          break\n",
    "        if rec.AcceptWaveform(data):\n",
    "          result = json.loads(rec.Result())\n",
    "          results.append(result.get(\"text\", \"\"))\n",
    "\n",
    "    final_result = json.loads(rec.FinalResult())\n",
    "    results.append(final_result.get(\"text\", \"\"))\n",
    "\n",
    "    return \" \".join(results)"
   ]
  },
  {
   "cell_type": "code",
   "execution_count": 8,
   "metadata": {},
   "outputs": [
    {
     "name": "stdout",
     "output_type": "stream",
     "text": [
      "론 논박 몸 은 옹진군 아울러 를 뭐 는 응급 버거울 그룹 흥행 은 허물 오쿠보 현대그룹 부엌 월 그럼 요 우월 홈런 은 월급 의 HUD 로 넣는 황후 은  [11] 아내 의 동향을 은 [10] 의 영향력 은 으면 아홉 의원 홍역 은 황영 옥 명화양 [1] 일 오후 으나 막는 등 등 화학 [1] 회에는 요 응 나 교육 등 [5] R 령을 [1] 흥행 은 흥 중령 등 암흑 응용 에 영향을 [5] 층 왕훙 냉혹 악령 해 여야 가 나온 오행 흥행영화 항 을 는 궁을 혼 에 의 해 령 엄 양 OFF 모노 오 [5] 호 해 [5] 억 오 호호 이후 하 룸 등을 폭로 월급 옥 양 움 론 등 [4] 대 헹굼 예 에 의 해 M [10] 승 나오게 해 무마 해 한 혹 은 [2] 승격 경호강 옹호 경호 읍 었군 홍 호령 옹 왕욱 옥 황 옹호 해 오고 [5] O O 묵 목 [55] 엄 뭐하 다 오 와 운동화 등 [50] 여명 이 올 무명옷 모음 등 량을 황금 코믹 엠 할 때 양 옥 등 능해 의 악몽 헹 어뢰 등 등 의 일 일 이후 화학 오물 룸 무릎 목 금 의원을 원료 언론 학력 [1] 항 이 때 다 다\n"
     ]
    }
   ],
   "source": [
    "print(recognize_audio(MP3_PATH))"
   ]
  },
  {
   "cell_type": "code",
   "execution_count": null,
   "metadata": {},
   "outputs": [],
   "source": []
  }
 ],
 "metadata": {
  "kernelspec": {
   "display_name": "Python 3",
   "language": "python",
   "name": "python3"
  },
  "language_info": {
   "codemirror_mode": {
    "name": "ipython",
    "version": 3
   },
   "file_extension": ".py",
   "mimetype": "text/x-python",
   "name": "python",
   "nbconvert_exporter": "python",
   "pygments_lexer": "ipython3",
   "version": "3.10.12"
  }
 },
 "nbformat": 4,
 "nbformat_minor": 2
}
