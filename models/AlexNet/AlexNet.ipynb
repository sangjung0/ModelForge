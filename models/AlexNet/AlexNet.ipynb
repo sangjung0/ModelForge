{
 "cells": [
  {
   "cell_type": "code",
   "execution_count": 27,
   "metadata": {},
   "outputs": [],
   "source": [
    "import os\n",
    "os.chdir(\"/workspaces/dev\")"
   ]
  },
  {
   "cell_type": "code",
   "execution_count": null,
   "metadata": {},
   "outputs": [],
   "source": [
    "from tensorflow.keras import layers, models, activations, losses, optimizers, metrics, regularizers\n",
    "from tensorflow.keras.utils import Sequence"
   ]
  },
  {
   "cell_type": "code",
   "execution_count": null,
   "metadata": {},
   "outputs": [],
   "source": [
    "class AlexNet():\n",
    "  PADDING='same'\n",
    "  WEIGHT_DECAY=0.0005\n",
    "  \n",
    "  def __init__(self, input_shape=(277, 277, 3), num_classes=1000):\n",
    "    self._model = AlexNet.__create(input_shape, num_classes)\n",
    "  \n",
    "  def __create(input_shape, num_classes):\n",
    "    model = models.Sequential([\n",
    "      layers.Input(shape=input_shape),\n",
    "\n",
    "      layers.Conv2D(filters=96, kernel_size=11, strides=4, padding=AlexNet.PADDING, kernel_regularizer=regularizers.l2(AlexNet.WEIGHT_DECAY)),\n",
    "      layers.LayerNormalization(), \n",
    "      layers.Activation(activations.relu),\n",
    "      layers.MaxPooling2D(pool_size=(3,3), strides=2),\n",
    "\n",
    "      layers.Conv2D(filters=256, kernel_size=5, padding=AlexNet.PADDING, kernel_regularizer=regularizers.l2(AlexNet.WEIGHT_DECAY)),\n",
    "      layers.LayerNormalization(),\n",
    "      layers.Activation(activations.relu),\n",
    "      layers.MaxPooling2D(pool_size=(3,3), strides=2),\n",
    "\n",
    "      layers.Conv2D(filters=384, kernel_size=3, padding=AlexNet.PADDING, activation=activations.relu, kernel_regularizer=regularizers.l2(AlexNet.WEIGHT_DECAY)), \n",
    "\n",
    "      layers.Conv2D(filters=384, kernel_size=3, padding=AlexNet.PADDING, activation=activations.relu, kernel_regularizer=regularizers.l2(AlexNet.WEIGHT_DECAY)), \n",
    "\n",
    "      layers.Conv2D(filters=256, kernel_size=3, padding=AlexNet.PADDING, activation=activations.relu, kernel_regularizer=regularizers.l2(AlexNet.WEIGHT_DECAY)), \n",
    "      layers.MaxPooling2D(pool_size=(3,3), strides=2),\n",
    "\n",
    "      layers.Flatten(),\n",
    "\n",
    "      layers.Dense(4096, activation=activations.relu, kernel_regularizer=regularizers.l2(AlexNet.WEIGHT_DECAY)),\n",
    "      layers.Dropout(0.5),\n",
    "\n",
    "      layers.Dense(4096, activation=activations.relu, kernel_regularizer=regularizers.l2(AlexNet.WEIGHT_DECAY)),\n",
    "      layers.Dropout(0.5),\n",
    "      \n",
    "      layers.Dense(num_classes, activation=activations.softmax)\n",
    "    ])\n",
    "    \n",
    "    model.compile(\n",
    "      loss = losses.CategoricalCrossentropy(),\n",
    "      optimizer = optimizers.SGD(learning_rate=0.01, momentum=0.9),\n",
    "      metrics= [metrics.Accuracy()]\n",
    "    )\n",
    "\n",
    "    return model\n",
    "    \n",
    "  def train(self, train_data, epochs=90, jobs=4, validation_data=None):\n",
    "    return self._model.fit(\n",
    "      train_data,\n",
    "      epochs=epochs,\n",
    "      workers = jobs,\n",
    "      validation_data=validation_data,\n",
    "      use_multiprocessing = True\n",
    "    )\n",
    "\n",
    "  def predict(self, x):\n",
    "    return self._model.predict(x)\n",
    "\n",
    "  # Property\n",
    "  @property\n",
    "  def model(self):\n",
    "    return self._model\n",
    "    "
   ]
  },
  {
   "cell_type": "code",
   "execution_count": null,
   "metadata": {},
   "outputs": [],
   "source": [
    "BATCH_SIZE = 128\n",
    "INPUT_SHAPE = (277, 277, 3)"
   ]
  },
  {
   "cell_type": "code",
   "execution_count": 31,
   "metadata": {},
   "outputs": [],
   "source": [
    "from image_recognition.ILSVRC import ILSVRC\n",
    "from data_loader import DataGenerator "
   ]
  },
  {
   "cell_type": "code",
   "execution_count": null,
   "metadata": {},
   "outputs": [],
   "source": [
    "label_map = ILSVRC.label_dict()\n",
    "train_paths, train_labels = ILSVRC.train_paths_and_labels()\n",
    "train_data = DataGenerator(train_paths, train_labels, BATCH_SIZE, INPUT_SHAPE)"
   ]
  },
  {
   "cell_type": "code",
   "execution_count": null,
   "metadata": {},
   "outputs": [],
   "source": [
    "alexnet = AlexNet(input_shape=INPUT_SHAPE, num_classes=len(label_map))"
   ]
  },
  {
   "cell_type": "code",
   "execution_count": 34,
   "metadata": {},
   "outputs": [
    {
     "data": {
      "text/plain": [
       "True"
      ]
     },
     "execution_count": 34,
     "metadata": {},
     "output_type": "execute_result"
    }
   ],
   "source": [
    "isinstance(train_data, Sequence)"
   ]
  },
  {
   "cell_type": "code",
   "execution_count": null,
   "metadata": {},
   "outputs": [
    {
     "ename": "TypeError",
     "evalue": "TensorFlowTrainer.fit() got an unexpected keyword argument 'workers'",
     "output_type": "error",
     "traceback": [
      "\u001b[0;31m---------------------------------------------------------------------------\u001b[0m",
      "\u001b[0;31mTypeError\u001b[0m                                 Traceback (most recent call last)",
      "Cell \u001b[0;32mIn[35], line 1\u001b[0m\n\u001b[0;32m----> 1\u001b[0m \u001b[43malexnet\u001b[49m\u001b[38;5;241;43m.\u001b[39;49m\u001b[43mtrain\u001b[49m\u001b[43m(\u001b[49m\u001b[43mtrain_data\u001b[49m\u001b[43m,\u001b[49m\u001b[43m \u001b[49m\u001b[43mjobs\u001b[49m\u001b[38;5;241;43m=\u001b[39;49m\u001b[38;5;241;43m10\u001b[39;49m\u001b[43m)\u001b[49m\n",
      "Cell \u001b[0;32mIn[29], line 49\u001b[0m, in \u001b[0;36mAlexNet.train\u001b[0;34m(self, train_data, epochs, jobs, validation_data)\u001b[0m\n\u001b[1;32m     48\u001b[0m \u001b[38;5;28;01mdef\u001b[39;00m\u001b[38;5;250m \u001b[39m\u001b[38;5;21mtrain\u001b[39m(\u001b[38;5;28mself\u001b[39m, train_data, epochs\u001b[38;5;241m=\u001b[39m\u001b[38;5;241m90\u001b[39m, jobs\u001b[38;5;241m=\u001b[39m\u001b[38;5;241m4\u001b[39m, validation_data\u001b[38;5;241m=\u001b[39m\u001b[38;5;28;01mNone\u001b[39;00m):\n\u001b[0;32m---> 49\u001b[0m   \u001b[38;5;28;01mreturn\u001b[39;00m \u001b[38;5;28;43mself\u001b[39;49m\u001b[38;5;241;43m.\u001b[39;49m\u001b[43m_model\u001b[49m\u001b[38;5;241;43m.\u001b[39;49m\u001b[43mfit\u001b[49m\u001b[43m(\u001b[49m\n\u001b[1;32m     50\u001b[0m \u001b[43m    \u001b[49m\u001b[43mtrain_data\u001b[49m\u001b[43m,\u001b[49m\n\u001b[1;32m     51\u001b[0m \u001b[43m    \u001b[49m\u001b[43mepochs\u001b[49m\u001b[38;5;241;43m=\u001b[39;49m\u001b[43mepochs\u001b[49m\u001b[43m,\u001b[49m\n\u001b[1;32m     52\u001b[0m \u001b[43m    \u001b[49m\u001b[43mworkers\u001b[49m\u001b[43m \u001b[49m\u001b[38;5;241;43m=\u001b[39;49m\u001b[43m \u001b[49m\u001b[43mjobs\u001b[49m\u001b[43m,\u001b[49m\n\u001b[1;32m     53\u001b[0m \u001b[43m    \u001b[49m\u001b[43mvalidation_data\u001b[49m\u001b[38;5;241;43m=\u001b[39;49m\u001b[43mvalidation_data\u001b[49m\u001b[43m,\u001b[49m\n\u001b[1;32m     54\u001b[0m \u001b[43m    \u001b[49m\u001b[43muse_multiprocessing\u001b[49m\u001b[43m \u001b[49m\u001b[38;5;241;43m=\u001b[39;49m\u001b[43m \u001b[49m\u001b[38;5;28;43;01mTrue\u001b[39;49;00m\n\u001b[1;32m     55\u001b[0m \u001b[43m  \u001b[49m\u001b[43m)\u001b[49m\n",
      "File \u001b[0;32m/usr/local/lib/python3.10/dist-packages/keras/src/utils/traceback_utils.py:122\u001b[0m, in \u001b[0;36mfilter_traceback.<locals>.error_handler\u001b[0;34m(*args, **kwargs)\u001b[0m\n\u001b[1;32m    119\u001b[0m     filtered_tb \u001b[38;5;241m=\u001b[39m _process_traceback_frames(e\u001b[38;5;241m.\u001b[39m__traceback__)\n\u001b[1;32m    120\u001b[0m     \u001b[38;5;66;03m# To get the full stack trace, call:\u001b[39;00m\n\u001b[1;32m    121\u001b[0m     \u001b[38;5;66;03m# `keras.config.disable_traceback_filtering()`\u001b[39;00m\n\u001b[0;32m--> 122\u001b[0m     \u001b[38;5;28;01mraise\u001b[39;00m e\u001b[38;5;241m.\u001b[39mwith_traceback(filtered_tb) \u001b[38;5;28;01mfrom\u001b[39;00m\u001b[38;5;250m \u001b[39m\u001b[38;5;28;01mNone\u001b[39;00m\n\u001b[1;32m    123\u001b[0m \u001b[38;5;28;01mfinally\u001b[39;00m:\n\u001b[1;32m    124\u001b[0m     \u001b[38;5;28;01mdel\u001b[39;00m filtered_tb\n",
      "File \u001b[0;32m/usr/local/lib/python3.10/dist-packages/keras/src/utils/traceback_utils.py:117\u001b[0m, in \u001b[0;36mfilter_traceback.<locals>.error_handler\u001b[0;34m(*args, **kwargs)\u001b[0m\n\u001b[1;32m    115\u001b[0m filtered_tb \u001b[38;5;241m=\u001b[39m \u001b[38;5;28;01mNone\u001b[39;00m\n\u001b[1;32m    116\u001b[0m \u001b[38;5;28;01mtry\u001b[39;00m:\n\u001b[0;32m--> 117\u001b[0m     \u001b[38;5;28;01mreturn\u001b[39;00m fn(\u001b[38;5;241m*\u001b[39margs, \u001b[38;5;241m*\u001b[39m\u001b[38;5;241m*\u001b[39mkwargs)\n\u001b[1;32m    118\u001b[0m \u001b[38;5;28;01mexcept\u001b[39;00m \u001b[38;5;167;01mException\u001b[39;00m \u001b[38;5;28;01mas\u001b[39;00m e:\n\u001b[1;32m    119\u001b[0m     filtered_tb \u001b[38;5;241m=\u001b[39m _process_traceback_frames(e\u001b[38;5;241m.\u001b[39m__traceback__)\n",
      "\u001b[0;31mTypeError\u001b[0m: TensorFlowTrainer.fit() got an unexpected keyword argument 'workers'"
     ]
    }
   ],
   "source": [
    "alexnet.train(train_data, jobs=10)"
   ]
  },
  {
   "cell_type": "code",
   "execution_count": null,
   "metadata": {},
   "outputs": [],
   "source": []
  }
 ],
 "metadata": {
  "kernelspec": {
   "display_name": "Python 3",
   "language": "python",
   "name": "python3"
  },
  "language_info": {
   "codemirror_mode": {
    "name": "ipython",
    "version": 3
   },
   "file_extension": ".py",
   "mimetype": "text/x-python",
   "name": "python",
   "nbconvert_exporter": "python",
   "pygments_lexer": "ipython3",
   "version": "3.10.12"
  }
 },
 "nbformat": 4,
 "nbformat_minor": 2
}
